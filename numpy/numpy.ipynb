{
  "nbformat": 4,
  "nbformat_minor": 0,
  "metadata": {
    "colab": {
      "provenance": [],
      "authorship_tag": "ABX9TyPa7JD+//JZzeeus13s0Hg0",
      "include_colab_link": true
    },
    "kernelspec": {
      "name": "python3",
      "display_name": "Python 3"
    },
    "language_info": {
      "name": "python"
    }
  },
  "cells": [
    {
      "cell_type": "markdown",
      "metadata": {
        "id": "view-in-github",
        "colab_type": "text"
      },
      "source": [
        "<a href=\"https://colab.research.google.com/github/sanjai570/MACHINE_LEARNING/blob/main/numpy.ipynb\" target=\"_parent\"><img src=\"https://colab.research.google.com/assets/colab-badge.svg\" alt=\"Open In Colab\"/></a>"
      ]
    },
    {
      "cell_type": "code",
      "execution_count": null,
      "metadata": {
        "id": "MT1ayZQ91dji"
      },
      "outputs": [],
      "source": [
        "import numpy as np"
      ]
    },
    {
      "cell_type": "markdown",
      "source": [
        "# **dimensions and shape**"
      ],
      "metadata": {
        "id": "uzaXWr_v6fG1"
      }
    },
    {
      "cell_type": "code",
      "source": [
        "arr = np.array([[1,2,3],[4,5,6]])\n",
        "arr.ndim"
      ],
      "metadata": {
        "colab": {
          "base_uri": "https://localhost:8080/"
        },
        "id": "CbMN67Em1pCu",
        "outputId": "00b73334-aa3e-4a44-ec41-713d71e3113c"
      },
      "execution_count": null,
      "outputs": [
        {
          "output_type": "execute_result",
          "data": {
            "text/plain": [
              "2"
            ]
          },
          "metadata": {},
          "execution_count": 5
        }
      ]
    },
    {
      "cell_type": "code",
      "source": [
        "arr.shape"
      ],
      "metadata": {
        "colab": {
          "base_uri": "https://localhost:8080/"
        },
        "id": "BmwQstWw1zyK",
        "outputId": "b3d09458-39dd-4126-c785-7db2485e3126"
      },
      "execution_count": null,
      "outputs": [
        {
          "output_type": "execute_result",
          "data": {
            "text/plain": [
              "(2, 3)"
            ]
          },
          "metadata": {},
          "execution_count": 6
        }
      ]
    },
    {
      "cell_type": "markdown",
      "source": [
        "# **range function**"
      ],
      "metadata": {
        "id": "AAQCWBc76iqr"
      }
    },
    {
      "cell_type": "code",
      "source": [
        "rge = np.arange(1,10)\n",
        "print(rge)\n",
        "rge"
      ],
      "metadata": {
        "colab": {
          "base_uri": "https://localhost:8080/"
        },
        "id": "_0wO_yJq14td",
        "outputId": "7d532a96-172f-49ff-d883-92a75d0ed64f"
      },
      "execution_count": null,
      "outputs": [
        {
          "output_type": "stream",
          "name": "stdout",
          "text": [
            "[1 2 3 4 5 6 7 8 9]\n"
          ]
        },
        {
          "output_type": "execute_result",
          "data": {
            "text/plain": [
              "array([1, 2, 3, 4, 5, 6, 7, 8, 9])"
            ]
          },
          "metadata": {},
          "execution_count": 7
        }
      ]
    },
    {
      "cell_type": "markdown",
      "source": [
        "# **skip values = step**"
      ],
      "metadata": {
        "id": "lGUTmz2VALmG"
      }
    },
    {
      "cell_type": "code",
      "source": [
        "arr = np.arange(1,10,2)\n",
        "arr"
      ],
      "metadata": {
        "colab": {
          "base_uri": "https://localhost:8080/"
        },
        "id": "VpyhZcBx6qdH",
        "outputId": "1596ec67-1746-407f-866b-b568bb8f2e24"
      },
      "execution_count": null,
      "outputs": [
        {
          "output_type": "execute_result",
          "data": {
            "text/plain": [
              "array([1, 3, 5, 7, 9])"
            ]
          },
          "metadata": {},
          "execution_count": 8
        }
      ]
    },
    {
      "cell_type": "markdown",
      "source": [
        "# **linspace and log space**"
      ],
      "metadata": {
        "id": "uN7fpzODAw2C"
      }
    },
    {
      "cell_type": "code",
      "source": [
        "lin = np.linspace(0,1,5)\n",
        "lin"
      ],
      "metadata": {
        "id": "6K5ykUpeArTM",
        "colab": {
          "base_uri": "https://localhost:8080/"
        },
        "outputId": "3ec25011-2a8a-41fc-b47e-871a9078ec6a"
      },
      "execution_count": null,
      "outputs": [
        {
          "output_type": "execute_result",
          "data": {
            "text/plain": [
              "array([0.  , 0.25, 0.5 , 0.75, 1.  ])"
            ]
          },
          "metadata": {},
          "execution_count": 9
        }
      ]
    },
    {
      "cell_type": "code",
      "source": [
        "log = np.logspace(1,3,3)\n",
        "log"
      ],
      "metadata": {
        "colab": {
          "base_uri": "https://localhost:8080/"
        },
        "id": "488R-pe2Gw_I",
        "outputId": "54f1d09e-71ef-460a-c52d-2771fb54307b"
      },
      "execution_count": null,
      "outputs": [
        {
          "output_type": "execute_result",
          "data": {
            "text/plain": [
              "array([  10.,  100., 1000.])"
            ]
          },
          "metadata": {},
          "execution_count": 10
        }
      ]
    },
    {
      "cell_type": "markdown",
      "source": [
        "# **logspace using base**"
      ],
      "metadata": {
        "id": "F4M0UkBpHhHX"
      }
    },
    {
      "cell_type": "code",
      "source": [
        "logbase=np.logspace(1,3,num=3,base=4)\n",
        "logbase"
      ],
      "metadata": {
        "colab": {
          "base_uri": "https://localhost:8080/"
        },
        "id": "ejclaf58HFDH",
        "outputId": "b060cfd3-e54b-415c-9c39-8d28be2a9568"
      },
      "execution_count": null,
      "outputs": [
        {
          "output_type": "execute_result",
          "data": {
            "text/plain": [
              "array([ 4., 16., 64.])"
            ]
          },
          "metadata": {},
          "execution_count": 11
        }
      ]
    },
    {
      "cell_type": "markdown",
      "source": [
        "# **zeros and ones**"
      ],
      "metadata": {
        "id": "UCGNEdi7MOI6"
      }
    },
    {
      "cell_type": "code",
      "source": [
        "zero = np.zeros(5,dtype=int)\n",
        "print(zero)\n",
        "one = np.ones([2,3],dtype=int)\n",
        "one\n"
      ],
      "metadata": {
        "colab": {
          "base_uri": "https://localhost:8080/"
        },
        "id": "dEzyppVIHzyD",
        "outputId": "fb3e2e44-7515-47e5-b267-f550c127a3ea"
      },
      "execution_count": null,
      "outputs": [
        {
          "output_type": "stream",
          "name": "stdout",
          "text": [
            "[0 0 0 0 0]\n"
          ]
        },
        {
          "output_type": "execute_result",
          "data": {
            "text/plain": [
              "array([[1, 1, 1],\n",
              "       [1, 1, 1]])"
            ]
          },
          "metadata": {},
          "execution_count": 12
        }
      ]
    },
    {
      "cell_type": "markdown",
      "source": [
        "# **filling a same value \"full\"**"
      ],
      "metadata": {
        "id": "qqx5pp0oP1R7"
      }
    },
    {
      "cell_type": "code",
      "source": [
        "rr = np.full(5,2)\n",
        "rr"
      ],
      "metadata": {
        "colab": {
          "base_uri": "https://localhost:8080/"
        },
        "id": "f_03IEe2P7Jq",
        "outputId": "cff82fba-504d-42f1-b117-7611b2331084"
      },
      "execution_count": null,
      "outputs": [
        {
          "output_type": "execute_result",
          "data": {
            "text/plain": [
              "array([2, 2, 2, 2, 2])"
            ]
          },
          "metadata": {},
          "execution_count": 13
        }
      ]
    },
    {
      "cell_type": "code",
      "source": [
        "rr = np.full([2,4],7.7)\n",
        "rr"
      ],
      "metadata": {
        "colab": {
          "base_uri": "https://localhost:8080/"
        },
        "id": "GbEiykgLMZIm",
        "outputId": "db5b43d7-ca9c-463d-e7a5-baf79c92e038"
      },
      "execution_count": null,
      "outputs": [
        {
          "output_type": "execute_result",
          "data": {
            "text/plain": [
              "array([[7.7, 7.7, 7.7, 7.7],\n",
              "       [7.7, 7.7, 7.7, 7.7]])"
            ]
          },
          "metadata": {},
          "execution_count": 14
        }
      ]
    },
    {
      "cell_type": "markdown",
      "source": [
        "# **creating an empty array \" empty \" - its use grabage value in the memory to fill the values**"
      ],
      "metadata": {
        "id": "ecqdmv_SmxMI"
      }
    },
    {
      "cell_type": "code",
      "source": [
        "arr = np.empty([2,3])\n",
        "arr"
      ],
      "metadata": {
        "id": "TgVJ4QbpQDbL",
        "colab": {
          "base_uri": "https://localhost:8080/"
        },
        "outputId": "e24877f5-5ae5-4dc5-9651-e3c1899deb85"
      },
      "execution_count": null,
      "outputs": [
        {
          "output_type": "execute_result",
          "data": {
            "text/plain": [
              "array([[2.06320056e-315, 0.00000000e+000, 1.24030434e+213],\n",
              "       [6.01328829e-154, 1.97249690e-153, 2.46959157e-312]])"
            ]
          },
          "metadata": {},
          "execution_count": 15
        }
      ]
    },
    {
      "cell_type": "markdown",
      "source": [
        "# **genrating random value**"
      ],
      "metadata": {
        "id": "2NQXp8gYm4xk"
      }
    },
    {
      "cell_type": "markdown",
      "source": [
        "# rand for float"
      ],
      "metadata": {
        "id": "t3rvgbQmnRTo"
      }
    },
    {
      "cell_type": "code",
      "source": [
        "\n",
        "\n",
        "arr = np.random.rand(2,3)\n",
        "arr"
      ],
      "metadata": {
        "colab": {
          "base_uri": "https://localhost:8080/"
        },
        "id": "EAS64baHkgIh",
        "outputId": "15ba49d9-75ce-4ea7-e295-b293556a9c7a"
      },
      "execution_count": null,
      "outputs": [
        {
          "output_type": "execute_result",
          "data": {
            "text/plain": [
              "array([[0.06956662, 0.01149259, 0.61695105],\n",
              "       [0.64008225, 0.42393088, 0.57984568]])"
            ]
          },
          "metadata": {},
          "execution_count": 16
        }
      ]
    },
    {
      "cell_type": "markdown",
      "source": [
        "# randn for std values with mean of 0"
      ],
      "metadata": {
        "id": "JaYVNW7PnUig"
      }
    },
    {
      "cell_type": "code",
      "source": [
        "arr=np.random.randn(2,3)\n",
        "arr"
      ],
      "metadata": {
        "colab": {
          "base_uri": "https://localhost:8080/"
        },
        "id": "P9V3iBRWmPBI",
        "outputId": "2d5a32ae-c789-40f8-fa4e-c7d6650565a0"
      },
      "execution_count": null,
      "outputs": [
        {
          "output_type": "execute_result",
          "data": {
            "text/plain": [
              "array([[ 0.73868327, -0.4512945 ,  0.26927176],\n",
              "       [-0.96538273, -0.03513683,  1.14583545]])"
            ]
          },
          "metadata": {},
          "execution_count": 17
        }
      ]
    },
    {
      "cell_type": "markdown",
      "source": [
        "# **randint for integers**"
      ],
      "metadata": {
        "id": "WFMcJZJ9ngKJ"
      }
    },
    {
      "cell_type": "markdown",
      "source": [
        "**for single integer**"
      ],
      "metadata": {
        "id": "iRHRhTrnnlHs"
      }
    },
    {
      "cell_type": "code",
      "source": [
        "arr=np.random.randint(10,100)\n",
        "arr"
      ],
      "metadata": {
        "colab": {
          "base_uri": "https://localhost:8080/"
        },
        "id": "Ebgmt2ZRmZnC",
        "outputId": "7ae8001a-39eb-4498-e614-561c659d0a9b"
      },
      "execution_count": null,
      "outputs": [
        {
          "output_type": "execute_result",
          "data": {
            "text/plain": [
              "50"
            ]
          },
          "metadata": {},
          "execution_count": 18
        }
      ]
    },
    {
      "cell_type": "markdown",
      "source": [
        "**for array of values**"
      ],
      "metadata": {
        "id": "BjMWMHArnngk"
      }
    },
    {
      "cell_type": "code",
      "source": [
        "arr=np.random.randint(10,100,size = [2,3])\n",
        "arr"
      ],
      "metadata": {
        "colab": {
          "base_uri": "https://localhost:8080/"
        },
        "id": "2XKEkuSHml1L",
        "outputId": "a2cf93aa-40d1-4fab-e9e9-e3a4f9c0bae9"
      },
      "execution_count": null,
      "outputs": [
        {
          "output_type": "execute_result",
          "data": {
            "text/plain": [
              "array([[59, 98, 81],\n",
              "       [14, 56, 32]])"
            ]
          },
          "metadata": {},
          "execution_count": 19
        }
      ]
    },
    {
      "cell_type": "markdown",
      "source": [
        ".\n",
        "\n",
        "\n",
        "\n",
        ".\n",
        "\n",
        "\n",
        ".\n",
        "\n",
        ".\n",
        "\n",
        "."
      ],
      "metadata": {
        "id": "O6VXfJjfoJn3"
      }
    },
    {
      "cell_type": "markdown",
      "source": [
        "## **----------NUMPY DATATYPES AND TYPE CASTING-----------**"
      ],
      "metadata": {
        "id": "37DkHO9Mnt-9"
      }
    },
    {
      "cell_type": "markdown",
      "source": [
        "# **creating a numpy array mannualy**"
      ],
      "metadata": {
        "id": "yJKMPGnGpCoa"
      }
    },
    {
      "cell_type": "code",
      "source": [
        "arr = np.array([2,3,4,5,6])\n",
        "arr"
      ],
      "metadata": {
        "colab": {
          "base_uri": "https://localhost:8080/"
        },
        "id": "iK6k7LCxoAFT",
        "outputId": "4584851e-d7c9-4d2b-db31-10df5e6d7b7d"
      },
      "execution_count": null,
      "outputs": [
        {
          "output_type": "execute_result",
          "data": {
            "text/plain": [
              "array([2, 3, 4, 5, 6])"
            ]
          },
          "metadata": {},
          "execution_count": 20
        }
      ]
    },
    {
      "cell_type": "code",
      "source": [
        "arr = np.array([[2,3,4],[5,6,7]])\n",
        "arr"
      ],
      "metadata": {
        "colab": {
          "base_uri": "https://localhost:8080/"
        },
        "id": "w8XUY886ornD",
        "outputId": "930f4d27-ed1e-4d59-cac4-a99ceaa82df5"
      },
      "execution_count": null,
      "outputs": [
        {
          "output_type": "execute_result",
          "data": {
            "text/plain": [
              "array([[2, 3, 4],\n",
              "       [5, 6, 7]])"
            ]
          },
          "metadata": {},
          "execution_count": 21
        }
      ]
    },
    {
      "cell_type": "markdown",
      "source": [
        "# **type casting of list to numpy array**"
      ],
      "metadata": {
        "id": "Jwl9fF1SpIL-"
      }
    },
    {
      "cell_type": "code",
      "source": [
        "lis = [\"String\",'d',1,2.3]\n",
        "type(lis)"
      ],
      "metadata": {
        "colab": {
          "base_uri": "https://localhost:8080/"
        },
        "id": "D-f5oHG-oykA",
        "outputId": "f097260d-c29e-4cda-fc1e-5871287beb34"
      },
      "execution_count": null,
      "outputs": [
        {
          "output_type": "execute_result",
          "data": {
            "text/plain": [
              "list"
            ]
          },
          "metadata": {},
          "execution_count": 22
        }
      ]
    },
    {
      "cell_type": "code",
      "source": [
        "arr=np.array(lis)\n",
        "arr"
      ],
      "metadata": {
        "colab": {
          "base_uri": "https://localhost:8080/"
        },
        "id": "i2tlN-R4pAYv",
        "outputId": "4751c387-1eaf-4cd3-967f-8476dfb9f941"
      },
      "execution_count": null,
      "outputs": [
        {
          "output_type": "execute_result",
          "data": {
            "text/plain": [
              "array(['String', 'd', '1', '2.3'], dtype='<U32')"
            ]
          },
          "metadata": {},
          "execution_count": 23
        }
      ]
    },
    {
      "cell_type": "code",
      "source": [
        "type(arr)"
      ],
      "metadata": {
        "id": "tidwe5fgpRYz",
        "outputId": "9637a26c-622c-499a-e29b-a9275a6d537d",
        "colab": {
          "base_uri": "https://localhost:8080/"
        }
      },
      "execution_count": null,
      "outputs": [
        {
          "output_type": "execute_result",
          "data": {
            "text/plain": [
              "numpy.ndarray"
            ]
          },
          "metadata": {},
          "execution_count": 24
        }
      ]
    },
    {
      "cell_type": "markdown",
      "source": [
        "# **type casting**"
      ],
      "metadata": {
        "id": "kJKRFqs6qYgA"
      }
    },
    {
      "cell_type": "markdown",
      "source": [
        "**while craeting the array**"
      ],
      "metadata": {
        "id": "WweyvPu6sx9E"
      }
    },
    {
      "cell_type": "code",
      "source": [
        "arr = np.array([1,2,3],dtype=np.float64)\n",
        "arr"
      ],
      "metadata": {
        "colab": {
          "base_uri": "https://localhost:8080/"
        },
        "id": "0pA9nVsIqXxm",
        "outputId": "0eb38bbb-0cd4-4551-e97c-47b57d38da55"
      },
      "execution_count": null,
      "outputs": [
        {
          "output_type": "execute_result",
          "data": {
            "text/plain": [
              "array([1., 2., 3.])"
            ]
          },
          "metadata": {},
          "execution_count": 25
        }
      ]
    },
    {
      "cell_type": "markdown",
      "source": [
        "**after creating the array **"
      ],
      "metadata": {
        "id": "1nDaOAomsr-8"
      }
    },
    {
      "cell_type": "code",
      "source": [
        "new_arr = arr.astype(int)"
      ],
      "metadata": {
        "id": "MFGnvnb2pS8V"
      },
      "execution_count": null,
      "outputs": []
    },
    {
      "cell_type": "code",
      "source": [
        "new_arr"
      ],
      "metadata": {
        "colab": {
          "base_uri": "https://localhost:8080/"
        },
        "id": "WUe95qT4snuZ",
        "outputId": "78b62f8e-ce5e-4a79-ffed-a173df16b467"
      },
      "execution_count": null,
      "outputs": [
        {
          "output_type": "execute_result",
          "data": {
            "text/plain": [
              "array([1, 2, 3])"
            ]
          },
          "metadata": {},
          "execution_count": 27
        }
      ]
    },
    {
      "cell_type": "markdown",
      "source": [
        "#we cant typecast string to float or int\n",
        "# \"ValueError: could not convert string to float: np.str_('hello')\"----->this error will thrown"
      ],
      "metadata": {
        "id": "4W0OQegdtwza"
      }
    },
    {
      "cell_type": "code",
      "source": [
        "arr = np.array([\"1\",\"2\",\"3\"])\n",
        "arr.astype(float)"
      ],
      "metadata": {
        "colab": {
          "base_uri": "https://localhost:8080/"
        },
        "id": "s_UaL7uUsp0t",
        "outputId": "10a21eec-e2fd-48ce-9518-04cd2d100241"
      },
      "execution_count": null,
      "outputs": [
        {
          "output_type": "execute_result",
          "data": {
            "text/plain": [
              "array([1., 2., 3.])"
            ]
          },
          "metadata": {},
          "execution_count": 28
        }
      ]
    },
    {
      "cell_type": "code",
      "source": [
        "arr2= np.array([\"1\",\"2\",\"3\",\"hello\"])\n",
        "arr2.astype(float)"
      ],
      "metadata": {
        "colab": {
          "base_uri": "https://localhost:8080/",
          "height": 158
        },
        "id": "Kz2nfkWbtBxq",
        "outputId": "1e492437-c299-486e-c284-e64f1a8d96cf"
      },
      "execution_count": null,
      "outputs": [
        {
          "output_type": "error",
          "ename": "ValueError",
          "evalue": "could not convert string to float: np.str_('hello')",
          "traceback": [
            "\u001b[0;31m---------------------------------------------------------------------------\u001b[0m",
            "\u001b[0;31mValueError\u001b[0m                                Traceback (most recent call last)",
            "\u001b[0;32m/tmp/ipython-input-29-1012304579.py\u001b[0m in \u001b[0;36m<cell line: 0>\u001b[0;34m()\u001b[0m\n\u001b[1;32m      1\u001b[0m \u001b[0marr2\u001b[0m\u001b[0;34m=\u001b[0m \u001b[0mnp\u001b[0m\u001b[0;34m.\u001b[0m\u001b[0marray\u001b[0m\u001b[0;34m(\u001b[0m\u001b[0;34m[\u001b[0m\u001b[0;34m\"1\"\u001b[0m\u001b[0;34m,\u001b[0m\u001b[0;34m\"2\"\u001b[0m\u001b[0;34m,\u001b[0m\u001b[0;34m\"3\"\u001b[0m\u001b[0;34m,\u001b[0m\u001b[0;34m\"hello\"\u001b[0m\u001b[0;34m]\u001b[0m\u001b[0;34m)\u001b[0m\u001b[0;34m\u001b[0m\u001b[0;34m\u001b[0m\u001b[0m\n\u001b[0;32m----> 2\u001b[0;31m \u001b[0marr2\u001b[0m\u001b[0;34m.\u001b[0m\u001b[0mastype\u001b[0m\u001b[0;34m(\u001b[0m\u001b[0mfloat\u001b[0m\u001b[0;34m)\u001b[0m\u001b[0;34m\u001b[0m\u001b[0;34m\u001b[0m\u001b[0m\n\u001b[0m",
            "\u001b[0;31mValueError\u001b[0m: could not convert string to float: np.str_('hello')"
          ]
        }
      ]
    },
    {
      "cell_type": "markdown",
      "source": [
        "# **size and itemsize**"
      ],
      "metadata": {
        "id": "X0NoSEkUwGov"
      }
    },
    {
      "cell_type": "code",
      "source": [
        "arr = np.array([[1,2,3],[4,5,6]])\n",
        "arr.size"
      ],
      "metadata": {
        "colab": {
          "base_uri": "https://localhost:8080/"
        },
        "id": "ocUSUes0uB87",
        "outputId": "273417e2-c9bb-4a97-dbf0-7ff61b2c0cec"
      },
      "execution_count": null,
      "outputs": [
        {
          "output_type": "execute_result",
          "data": {
            "text/plain": [
              "6"
            ]
          },
          "metadata": {},
          "execution_count": 30
        }
      ]
    },
    {
      "cell_type": "code",
      "source": [
        "arr.itemsize"
      ],
      "metadata": {
        "colab": {
          "base_uri": "https://localhost:8080/"
        },
        "id": "UW7COo53wSR7",
        "outputId": "6bd10406-6afb-4693-e8f8-ee4c8149dc27"
      },
      "execution_count": null,
      "outputs": [
        {
          "output_type": "execute_result",
          "data": {
            "text/plain": [
              "8"
            ]
          },
          "metadata": {},
          "execution_count": 31
        }
      ]
    },
    {
      "cell_type": "markdown",
      "source": [
        "# **reshaping ,ravel,flatten--->using this functions in an array**"
      ],
      "metadata": {
        "id": "7LkdzXbEzaOM"
      }
    },
    {
      "cell_type": "markdown",
      "source": [
        "# **1.reshaping**"
      ],
      "metadata": {
        "id": "mrYyWRlnznkT"
      }
    },
    {
      "cell_type": "code",
      "source": [
        "arr = np.array([1,2,3,4,5,6])\n",
        "reshaped = arr.reshape(2,3)\n",
        "print(reshaped)"
      ],
      "metadata": {
        "colab": {
          "base_uri": "https://localhost:8080/"
        },
        "id": "PxUD2oPSwWyD",
        "outputId": "587e7021-f446-46a2-cc7f-f8e08a81c429"
      },
      "execution_count": null,
      "outputs": [
        {
          "output_type": "stream",
          "name": "stdout",
          "text": [
            "[[1 2 3]\n",
            " [4 5 6]]\n"
          ]
        }
      ]
    },
    {
      "cell_type": "code",
      "source": [
        "againreshape = reshaped.reshape(3,2)\n",
        "print(againreshape)"
      ],
      "metadata": {
        "colab": {
          "base_uri": "https://localhost:8080/"
        },
        "id": "mWiI6vtpzFr0",
        "outputId": "c20948c1-a524-4dd9-a5c0-a15d900ea0be"
      },
      "execution_count": null,
      "outputs": [
        {
          "output_type": "stream",
          "name": "stdout",
          "text": [
            "[[1 2]\n",
            " [3 4]\n",
            " [5 6]]\n"
          ]
        }
      ]
    },
    {
      "cell_type": "markdown",
      "source": [
        "# **2.ravel**"
      ],
      "metadata": {
        "id": "psrSYXVWGrZY"
      }
    },
    {
      "cell_type": "code",
      "source": [
        "raveled = reshaped.ravel()\n",
        "raveled"
      ],
      "metadata": {
        "colab": {
          "base_uri": "https://localhost:8080/"
        },
        "id": "5trKd0jyzTn_",
        "outputId": "25e1425a-e854-4687-eb7b-9367a0995953"
      },
      "execution_count": null,
      "outputs": [
        {
          "output_type": "execute_result",
          "data": {
            "text/plain": [
              "array([1, 2, 3, 4, 5, 6])"
            ]
          },
          "metadata": {},
          "execution_count": 35
        }
      ]
    },
    {
      "cell_type": "code",
      "source": [
        "raveled[0]=100\n",
        "raveled"
      ],
      "metadata": {
        "colab": {
          "base_uri": "https://localhost:8080/"
        },
        "id": "z4KSb6dHMzWK",
        "outputId": "00453b47-a002-4757-d6cc-ed7e7a82f622"
      },
      "execution_count": null,
      "outputs": [
        {
          "output_type": "execute_result",
          "data": {
            "text/plain": [
              "array([100,   2,   3,   4,   5,   6])"
            ]
          },
          "metadata": {},
          "execution_count": 37
        }
      ]
    },
    {
      "cell_type": "code",
      "source": [
        "reshaped"
      ],
      "metadata": {
        "colab": {
          "base_uri": "https://localhost:8080/"
        },
        "id": "SZVKbmBoNO-r",
        "outputId": "5dd450cf-4ea6-4d03-bf61-e8b518079328"
      },
      "execution_count": null,
      "outputs": [
        {
          "output_type": "execute_result",
          "data": {
            "text/plain": [
              "array([[100,   2,   3],\n",
              "       [  4,   5,   6]])"
            ]
          },
          "metadata": {},
          "execution_count": 38
        }
      ]
    },
    {
      "cell_type": "markdown",
      "source": [
        "**both ravel and flatten do the same process where as the main this is done in the orginal array**"
      ],
      "metadata": {
        "id": "tIJ8T0bONgfc"
      }
    },
    {
      "cell_type": "markdown",
      "source": [
        "# **flatten**"
      ],
      "metadata": {
        "id": "mY2YMhNXNpzn"
      }
    },
    {
      "cell_type": "code",
      "source": [
        "flat = reshaped.flatten()\n",
        "flat"
      ],
      "metadata": {
        "colab": {
          "base_uri": "https://localhost:8080/"
        },
        "id": "Myy3qi1zNfYt",
        "outputId": "1df920fb-f52d-46f8-9459-88a44b74eae1"
      },
      "execution_count": null,
      "outputs": [
        {
          "output_type": "execute_result",
          "data": {
            "text/plain": [
              "array([100,   2,   3,   4,   5,   6])"
            ]
          },
          "metadata": {},
          "execution_count": 39
        }
      ]
    },
    {
      "cell_type": "code",
      "source": [
        "flat[0]=1\n",
        "flat"
      ],
      "metadata": {
        "colab": {
          "base_uri": "https://localhost:8080/"
        },
        "id": "0YxT8jVfNdkO",
        "outputId": "e9fe0e66-c8c8-4444-d579-ac86fc6cd380"
      },
      "execution_count": null,
      "outputs": [
        {
          "output_type": "execute_result",
          "data": {
            "text/plain": [
              "array([1, 2, 3, 4, 5, 6])"
            ]
          },
          "metadata": {},
          "execution_count": 40
        }
      ]
    },
    {
      "cell_type": "code",
      "source": [
        "reshaped"
      ],
      "metadata": {
        "colab": {
          "base_uri": "https://localhost:8080/"
        },
        "id": "CrKxXbvtN98n",
        "outputId": "4112346b-5b9a-4543-ebd0-893d2a3a0753"
      },
      "execution_count": null,
      "outputs": [
        {
          "output_type": "execute_result",
          "data": {
            "text/plain": [
              "array([[100,   2,   3],\n",
              "       [  4,   5,   6]])"
            ]
          },
          "metadata": {},
          "execution_count": 41
        }
      ]
    },
    {
      "cell_type": "markdown",
      "source": [
        "^\n",
        "^\n",
        "|\n",
        "**from above we can see the only difference is change of the value in the orginal arrray RAVEL change the orginal array itself but FALTTEN creates a copy of the orginal array and change it in which the orginal array is not changed**"
      ],
      "metadata": {
        "id": "EriP4EGwOAyM"
      }
    },
    {
      "cell_type": "markdown",
      "source": [
        "## ARITHMETIC OPERATIONS"
      ],
      "metadata": {
        "id": "Zf7daLmscPz5"
      }
    },
    {
      "cell_type": "code",
      "source": [
        "a = np.array([1,2,3])\n",
        "b = np.array([4,5,6])\n",
        "add = (a+b)\n",
        "sub = (a-b)\n",
        "mul = (a*b)\n",
        "div = (a/b)\n",
        "intdiv = (a//b)\n",
        "mod = (a%b)\n",
        "print(add)"
      ],
      "metadata": {
        "colab": {
          "base_uri": "https://localhost:8080/"
        },
        "id": "-5aOKYYAN_nD",
        "outputId": "cb9feed0-05b3-4319-bc47-ab7488fe2788"
      },
      "execution_count": null,
      "outputs": [
        {
          "output_type": "stream",
          "name": "stdout",
          "text": [
            "[5 7 9]\n"
          ]
        }
      ]
    },
    {
      "cell_type": "markdown",
      "source": [
        "# universal functions"
      ],
      "metadata": {
        "id": "duUIgHUOdOw9"
      }
    },
    {
      "cell_type": "code",
      "source": [
        "arr = np.array([1,2,3,4,5])\n",
        "print(np.sqrt(arr))\n",
        "print(np.exp(arr))\n",
        "print(np.sin(arr))"
      ],
      "metadata": {
        "colab": {
          "base_uri": "https://localhost:8080/"
        },
        "id": "aTxCricCc4Ua",
        "outputId": "fefa86ec-fd32-478b-f55f-2f2d387d7e53"
      },
      "execution_count": null,
      "outputs": [
        {
          "output_type": "stream",
          "name": "stdout",
          "text": [
            "[1.         1.41421356 1.73205081 2.         2.23606798]\n",
            "[  2.71828183   7.3890561   20.08553692  54.59815003 148.4131591 ]\n",
            "[ 0.84147098  0.90929743  0.14112001 -0.7568025  -0.95892427]\n"
          ]
        }
      ]
    },
    {
      "cell_type": "markdown",
      "source": [
        "# INDEXING AND SLICING"
      ],
      "metadata": {
        "id": "hsFAjB0kqO4r"
      }
    },
    {
      "cell_type": "markdown",
      "source": [
        "**1D**"
      ],
      "metadata": {
        "id": "LlbUmj7Bq7Gl"
      }
    },
    {
      "cell_type": "code",
      "source": [
        "arr = np.array([1,2,3,4,5])\n",
        "print(arr[0:3])"
      ],
      "metadata": {
        "colab": {
          "base_uri": "https://localhost:8080/"
        },
        "id": "wIsD_DJxeYVb",
        "outputId": "837d2081-ff9a-4c4c-93a2-f30ed4813450"
      },
      "execution_count": null,
      "outputs": [
        {
          "output_type": "stream",
          "name": "stdout",
          "text": [
            "[1 2 3]\n"
          ]
        }
      ]
    },
    {
      "cell_type": "code",
      "source": [
        "print(arr[::])"
      ],
      "metadata": {
        "colab": {
          "base_uri": "https://localhost:8080/"
        },
        "id": "Ap6iwN6XqF7P",
        "outputId": "45a30871-3b33-40c8-af5f-b5ba7e21e955"
      },
      "execution_count": null,
      "outputs": [
        {
          "output_type": "stream",
          "name": "stdout",
          "text": [
            "[1 2 3 4 5]\n"
          ]
        }
      ]
    },
    {
      "cell_type": "markdown",
      "source": [
        "**2d**"
      ],
      "metadata": {
        "id": "uYmWXxqXq_LU"
      }
    },
    {
      "cell_type": "code",
      "source": [
        "arr = np.array([[1,2,3],[4,5,6],[7,8,9]])\n",
        "print(arr[1:,1:])"
      ],
      "metadata": {
        "colab": {
          "base_uri": "https://localhost:8080/"
        },
        "id": "Dc6IrPdFqf6i",
        "outputId": "cf168dcf-c2ef-4e7c-bedf-c2961d7bd3f0"
      },
      "execution_count": null,
      "outputs": [
        {
          "output_type": "stream",
          "name": "stdout",
          "text": [
            "[[5 6]\n",
            " [8 9]]\n"
          ]
        }
      ]
    },
    {
      "cell_type": "markdown",
      "source": [
        "# **TAKE**"
      ],
      "metadata": {
        "id": "MoODSeLprX3x"
      }
    },
    {
      "cell_type": "code",
      "source": [
        "arr = np.array([1,2,3.1,4,5])\n",
        "idx = [0,3]\n",
        "print(np.take(arr,idx))"
      ],
      "metadata": {
        "colab": {
          "base_uri": "https://localhost:8080/"
        },
        "id": "8LMbYSeLrNR7",
        "outputId": "d03eec48-d403-4351-e44f-6be4d2837327"
      },
      "execution_count": null,
      "outputs": [
        {
          "output_type": "stream",
          "name": "stdout",
          "text": [
            "[1. 4.]\n"
          ]
        }
      ]
    },
    {
      "cell_type": "code",
      "source": [
        "for x in np.nditer(arr):\n",
        "  print(x)"
      ],
      "metadata": {
        "colab": {
          "base_uri": "https://localhost:8080/"
        },
        "id": "rB3C9oYkrsg0",
        "outputId": "835e1b77-e9d6-4f93-cc70-98d29fc7bc10"
      },
      "execution_count": null,
      "outputs": [
        {
          "output_type": "stream",
          "name": "stdout",
          "text": [
            "1.0\n",
            "2.0\n",
            "3.1\n",
            "4.0\n",
            "5.0\n"
          ]
        }
      ]
    },
    {
      "cell_type": "code",
      "source": [
        "for x in np.ndenumerate(arr):\n",
        "  print(x)"
      ],
      "metadata": {
        "colab": {
          "base_uri": "https://localhost:8080/"
        },
        "id": "ylW1IZSC46z2",
        "outputId": "2dce18d3-1441-4002-f2b8-24dabe385bcb"
      },
      "execution_count": null,
      "outputs": [
        {
          "output_type": "stream",
          "name": "stdout",
          "text": [
            "((0,), np.float64(1.0))\n",
            "((1,), np.float64(2.0))\n",
            "((2,), np.float64(3.1))\n",
            "((3,), np.float64(4.0))\n",
            "((4,), np.float64(5.0))\n"
          ]
        }
      ]
    },
    {
      "cell_type": "markdown",
      "source": [
        "# **view vs copy**"
      ],
      "metadata": {
        "id": "iMHWPu380J6U"
      }
    },
    {
      "cell_type": "code",
      "source": [
        "arr = np.array([1,2,3,4,5,6])\n",
        "view = arr[1:3]\n",
        "view"
      ],
      "metadata": {
        "id": "sY6rtjGC5W_b",
        "colab": {
          "base_uri": "https://localhost:8080/"
        },
        "outputId": "edbd60f3-7e6a-4b20-f26d-65dab9856dca"
      },
      "execution_count": null,
      "outputs": [
        {
          "output_type": "execute_result",
          "data": {
            "text/plain": [
              "array([2, 3])"
            ]
          },
          "metadata": {},
          "execution_count": 11
        }
      ]
    },
    {
      "cell_type": "code",
      "source": [
        "view[1]=200\n",
        "view"
      ],
      "metadata": {
        "colab": {
          "base_uri": "https://localhost:8080/"
        },
        "id": "PFvRXaAv0atJ",
        "outputId": "9b3bdace-3b0e-4efd-8c77-15122e088a80"
      },
      "execution_count": null,
      "outputs": [
        {
          "output_type": "execute_result",
          "data": {
            "text/plain": [
              "array([  2, 200])"
            ]
          },
          "metadata": {},
          "execution_count": 12
        }
      ]
    },
    {
      "cell_type": "code",
      "source": [
        "arr"
      ],
      "metadata": {
        "colab": {
          "base_uri": "https://localhost:8080/"
        },
        "id": "mkmWN4Y60fzX",
        "outputId": "ff74e386-e4ce-42ab-f5c8-9a4572a8cd49"
      },
      "execution_count": null,
      "outputs": [
        {
          "output_type": "execute_result",
          "data": {
            "text/plain": [
              "array([  1,   2, 200,   4,   5,   6])"
            ]
          },
          "metadata": {},
          "execution_count": 13
        }
      ]
    },
    {
      "cell_type": "code",
      "source": [
        "copy = arr[1:3].copy()\n",
        "copy"
      ],
      "metadata": {
        "colab": {
          "base_uri": "https://localhost:8080/"
        },
        "id": "2f1iXIZd0hrH",
        "outputId": "055e698a-5a9a-45d7-ef4d-088c6d516fe0"
      },
      "execution_count": null,
      "outputs": [
        {
          "output_type": "execute_result",
          "data": {
            "text/plain": [
              "array([  2, 200])"
            ]
          },
          "metadata": {},
          "execution_count": 14
        }
      ]
    },
    {
      "cell_type": "code",
      "source": [
        "copy[1]=3"
      ],
      "metadata": {
        "id": "C0QyVB1l1ZgZ"
      },
      "execution_count": null,
      "outputs": []
    },
    {
      "cell_type": "code",
      "source": [
        "copy"
      ],
      "metadata": {
        "colab": {
          "base_uri": "https://localhost:8080/"
        },
        "id": "eiTFD_Fy1c2l",
        "outputId": "ca4be0c2-a18c-4dfb-e1ef-56f2aee88f6c"
      },
      "execution_count": null,
      "outputs": [
        {
          "output_type": "execute_result",
          "data": {
            "text/plain": [
              "array([2, 3])"
            ]
          },
          "metadata": {},
          "execution_count": 16
        }
      ]
    },
    {
      "cell_type": "code",
      "source": [
        "arr"
      ],
      "metadata": {
        "colab": {
          "base_uri": "https://localhost:8080/"
        },
        "id": "RJm5wJ0v1eAo",
        "outputId": "cf5dd6cd-7b97-43b7-f34b-01891e6c4a4b"
      },
      "execution_count": null,
      "outputs": [
        {
          "output_type": "execute_result",
          "data": {
            "text/plain": [
              "array([  1,   2, 200,   4,   5,   6])"
            ]
          },
          "metadata": {},
          "execution_count": 17
        }
      ]
    },
    {
      "cell_type": "markdown",
      "source": [
        "# **TRANSPOSE**"
      ],
      "metadata": {
        "id": "8hgM2A8e2_Wb"
      }
    },
    {
      "cell_type": "code",
      "source": [
        "arr = np.array([[1,2,3],[4,5,6]])\n"
      ],
      "metadata": {
        "id": "Km7PROmP17oa"
      },
      "execution_count": null,
      "outputs": []
    },
    {
      "cell_type": "code",
      "source": [
        "copy.transpose()"
      ],
      "metadata": {
        "colab": {
          "base_uri": "https://localhost:8080/"
        },
        "id": "yUoUnJqB2JF0",
        "outputId": "605a938e-6b14-4a93-d8a7-f20bcd50ec61"
      },
      "execution_count": null,
      "outputs": [
        {
          "output_type": "execute_result",
          "data": {
            "text/plain": [
              "array([[1, 4],\n",
              "       [2, 5],\n",
              "       [3, 6]])"
            ]
          },
          "metadata": {},
          "execution_count": 31
        }
      ]
    },
    {
      "cell_type": "markdown",
      "source": [
        "# **swap axes**"
      ],
      "metadata": {
        "id": "DbnpX7Wx7nKO"
      }
    },
    {
      "cell_type": "code",
      "source": [
        "arr = np.array([[[1,2,3],[4,5,6]]])\n",
        "arr.shape"
      ],
      "metadata": {
        "colab": {
          "base_uri": "https://localhost:8080/"
        },
        "id": "ExcRHSqq2ogk",
        "outputId": "9cb6cc95-1bb8-424d-f576-4eb8a1115b09"
      },
      "execution_count": null,
      "outputs": [
        {
          "output_type": "execute_result",
          "data": {
            "text/plain": [
              "(1, 2, 3)"
            ]
          },
          "metadata": {},
          "execution_count": 33
        }
      ]
    },
    {
      "cell_type": "code",
      "source": [
        "swap = np.swapaxes(arr,0,1)\n",
        "swap.shape"
      ],
      "metadata": {
        "colab": {
          "base_uri": "https://localhost:8080/"
        },
        "id": "TVd9e7jF7zAC",
        "outputId": "6bdcabb9-3c6e-4d35-e6be-ba1effbfe869"
      },
      "execution_count": null,
      "outputs": [
        {
          "output_type": "execute_result",
          "data": {
            "text/plain": [
              "(2, 1, 3)"
            ]
          },
          "metadata": {},
          "execution_count": 36
        }
      ]
    },
    {
      "cell_type": "markdown",
      "source": [
        "# **CONCADENATE**"
      ],
      "metadata": {
        "id": "MzwFT6nK8DZc"
      }
    },
    {
      "cell_type": "code",
      "source": [
        "arr1 = np.array([1,2,3,4])\n",
        "arr2 = np.array([5,6,7,8])\n",
        "conc = np.concatenate((arr1,arr2))"
      ],
      "metadata": {
        "id": "EX8ylrCc78Tv"
      },
      "execution_count": null,
      "outputs": []
    },
    {
      "cell_type": "code",
      "source": [
        "conc"
      ],
      "metadata": {
        "colab": {
          "base_uri": "https://localhost:8080/"
        },
        "id": "2VF4reaK8bSD",
        "outputId": "482cbe56-181d-4d0b-f6a1-bdb8efcfe016"
      },
      "execution_count": null,
      "outputs": [
        {
          "output_type": "execute_result",
          "data": {
            "text/plain": [
              "array([1, 2, 3, 4, 5, 6, 7, 8])"
            ]
          },
          "metadata": {},
          "execution_count": 38
        }
      ]
    },
    {
      "cell_type": "markdown",
      "source": [
        "# **STACK**"
      ],
      "metadata": {
        "id": "ZhdEThLc8eOm"
      }
    },
    {
      "cell_type": "markdown",
      "source": [
        "2 types of stack\n",
        "\n",
        "v stack - vertical stack\n",
        "\n",
        "h stack - horizontal stack\n",
        "\n"
      ],
      "metadata": {
        "id": "dvc7Y_Yp8jdr"
      }
    },
    {
      "cell_type": "code",
      "source": [
        "vstack = np.vstack((arr1,arr2))\n",
        "vstack"
      ],
      "metadata": {
        "colab": {
          "base_uri": "https://localhost:8080/"
        },
        "id": "mO8YXABe8cK9",
        "outputId": "bf5afa05-9e51-4b52-e579-22a46c488a7f"
      },
      "execution_count": null,
      "outputs": [
        {
          "output_type": "execute_result",
          "data": {
            "text/plain": [
              "array([[1, 2, 3, 4],\n",
              "       [5, 6, 7, 8]])"
            ]
          },
          "metadata": {},
          "execution_count": 41
        }
      ]
    },
    {
      "cell_type": "code",
      "source": [
        "hstack = np.hstack((arr1,arr2))\n",
        "hstack"
      ],
      "metadata": {
        "colab": {
          "base_uri": "https://localhost:8080/"
        },
        "id": "RDvP2wGc89F9",
        "outputId": "60b4d640-ed59-4eac-ad2e-4d0d7730decf"
      },
      "execution_count": null,
      "outputs": [
        {
          "output_type": "execute_result",
          "data": {
            "text/plain": [
              "array([1, 2, 3, 4, 5, 6, 7, 8])"
            ]
          },
          "metadata": {},
          "execution_count": 42
        }
      ]
    },
    {
      "cell_type": "markdown",
      "source": [
        "# SPLIT"
      ],
      "metadata": {
        "id": "gXZ9cuVO9FqF"
      }
    },
    {
      "cell_type": "markdown",
      "source": [
        "2 types of split\n",
        "hsplit"
      ],
      "metadata": {
        "id": "QLkRLVsB9MfB"
      }
    },
    {
      "cell_type": "code",
      "source": [
        "arr = np.array([[1,2,3],[4,5,6]])\n",
        "hsplit = np.hsplit((arr),3)\n",
        "hsplit"
      ],
      "metadata": {
        "colab": {
          "base_uri": "https://localhost:8080/"
        },
        "id": "O00qcK9L8-LZ",
        "outputId": "a6b60ffc-9ea3-4922-bc2f-387847f7ceb7"
      },
      "execution_count": null,
      "outputs": [
        {
          "output_type": "execute_result",
          "data": {
            "text/plain": [
              "[array([[1],\n",
              "        [4]]),\n",
              " array([[2],\n",
              "        [5]]),\n",
              " array([[3],\n",
              "        [6]])]"
            ]
          },
          "metadata": {},
          "execution_count": 70
        }
      ]
    },
    {
      "cell_type": "code",
      "source": [
        "arr = np.array([[1,2,3],[4,5,6]])\n",
        "vsplit = np.vsplit((arr),2)\n",
        "vsplit"
      ],
      "metadata": {
        "colab": {
          "base_uri": "https://localhost:8080/"
        },
        "id": "TyI0NhX09jeq",
        "outputId": "569afc4a-13ce-4377-abd4-313785cd5633"
      },
      "execution_count": null,
      "outputs": [
        {
          "output_type": "execute_result",
          "data": {
            "text/plain": [
              "[array([[1, 2, 3]]), array([[4, 5, 6]])]"
            ]
          },
          "metadata": {},
          "execution_count": 59
        }
      ]
    },
    {
      "cell_type": "markdown",
      "source": [
        "# **REPEAT AND TILE**\n",
        "\n",
        "repeat = repeat every single element in an array\n",
        "\n",
        "tile = repeat an array\n"
      ],
      "metadata": {
        "id": "H3c7glbeFXqO"
      }
    },
    {
      "cell_type": "code",
      "source": [
        "arr = np.array([1,2,3])\n",
        "repeat = np.repeat(arr,3)\n",
        "tile = np.tile(arr,3)\n",
        "print(repeat)\n",
        "print(tile)"
      ],
      "metadata": {
        "colab": {
          "base_uri": "https://localhost:8080/"
        },
        "id": "xO-In1NW9sMc",
        "outputId": "50cceaa2-0c18-48ee-e23e-b1639d8f6a9b"
      },
      "execution_count": null,
      "outputs": [
        {
          "output_type": "stream",
          "name": "stdout",
          "text": [
            "[1 1 1 2 2 2 3 3 3]\n",
            "[1 2 3 1 2 3 1 2 3]\n"
          ]
        }
      ]
    },
    {
      "cell_type": "markdown",
      "source": [
        "# **AGGREGATE FUNCTIONS**\\"
      ],
      "metadata": {
        "id": "jBY-gIFjGHsw"
      }
    },
    {
      "cell_type": "code",
      "source": [
        "#sum,mean,median,standard deviation,variance,minimum,maximum"
      ],
      "metadata": {
        "id": "BmssckT1F73m"
      },
      "execution_count": null,
      "outputs": []
    },
    {
      "cell_type": "code",
      "source": [
        "arr = np.array([1,2,3])\n",
        "cumsum = np.cumsum(arr)\n",
        "cumsum"
      ],
      "metadata": {
        "colab": {
          "base_uri": "https://localhost:8080/"
        },
        "id": "8ZBJUA4-GpRH",
        "outputId": "5364a2da-90b2-4ab4-9bc4-f835de1e9103"
      },
      "execution_count": null,
      "outputs": [
        {
          "output_type": "execute_result",
          "data": {
            "text/plain": [
              "array([1, 3, 6])"
            ]
          },
          "metadata": {},
          "execution_count": 77
        }
      ]
    },
    {
      "cell_type": "code",
      "source": [
        "cumprod = np.cumprod(arr)\n",
        "cumprod"
      ],
      "metadata": {
        "colab": {
          "base_uri": "https://localhost:8080/"
        },
        "id": "MBrWhov3G3Uy",
        "outputId": "28c2fa74-23a5-4af2-a4fb-1083a383a047"
      },
      "execution_count": null,
      "outputs": [
        {
          "output_type": "execute_result",
          "data": {
            "text/plain": [
              "array([1, 2, 6])"
            ]
          },
          "metadata": {},
          "execution_count": 80
        }
      ]
    },
    {
      "cell_type": "markdown",
      "source": [
        "# **CONDITIONAL BASED CHOICES**"
      ],
      "metadata": {
        "id": "HGPjMic3HI7B"
      }
    },
    {
      "cell_type": "markdown",
      "source": [
        "WHERE and ARGWHERE"
      ],
      "metadata": {
        "id": "afo_NlhVHQBk"
      }
    },
    {
      "cell_type": "code",
      "source": [
        "where = np.where(arr<=2,\"low\",\"high\")\n",
        "where"
      ],
      "metadata": {
        "colab": {
          "base_uri": "https://localhost:8080/"
        },
        "id": "lDxnH-ZMG_1D",
        "outputId": "b4fc9b28-d2fc-466b-a239-ab1393c50dc8"
      },
      "execution_count": null,
      "outputs": [
        {
          "output_type": "execute_result",
          "data": {
            "text/plain": [
              "array(['low', 'low', 'high'], dtype='<U4')"
            ]
          },
          "metadata": {},
          "execution_count": 81
        }
      ]
    },
    {
      "cell_type": "code",
      "source": [
        "argwhere = np.argwhere(arr<=2)\n",
        "print(argwhere)\n",
        "arr[argwhere]"
      ],
      "metadata": {
        "colab": {
          "base_uri": "https://localhost:8080/"
        },
        "id": "mhvS4aTzHlCh",
        "outputId": "c22aa2d4-6910-4234-eafd-b689ad2ff207"
      },
      "execution_count": null,
      "outputs": [
        {
          "output_type": "stream",
          "name": "stdout",
          "text": [
            "[[0]\n",
            " [1]]\n"
          ]
        },
        {
          "output_type": "execute_result",
          "data": {
            "text/plain": [
              "array([[1],\n",
              "       [2]])"
            ]
          },
          "metadata": {},
          "execution_count": 85
        }
      ]
    },
    {
      "cell_type": "markdown",
      "source": [
        "# **LOGICAL AND and LOGICAL OR**"
      ],
      "metadata": {
        "id": "p9ZDnGvRwYiY"
      }
    },
    {
      "cell_type": "code",
      "source": [
        "arr = np.array([1,2,3,4])\n",
        "print(np.logical_and(arr<2,arr>=0))"
      ],
      "metadata": {
        "id": "DY5vRZKRH2gf",
        "colab": {
          "base_uri": "https://localhost:8080/"
        },
        "outputId": "fbbab93f-4bcc-4454-e412-5619274278f4"
      },
      "execution_count": null,
      "outputs": [
        {
          "output_type": "stream",
          "name": "stdout",
          "text": [
            "[ True False False False]\n"
          ]
        }
      ]
    },
    {
      "cell_type": "code",
      "source": [
        "print(np.logical_or(arr<2,arr>=0))"
      ],
      "metadata": {
        "colab": {
          "base_uri": "https://localhost:8080/"
        },
        "id": "g4Pq9LvkwSJI",
        "outputId": "a0fcff65-60bf-422e-e809-ebbb189dabd7"
      },
      "execution_count": null,
      "outputs": [
        {
          "output_type": "stream",
          "name": "stdout",
          "text": [
            "[ True  True  True  True]\n"
          ]
        }
      ]
    },
    {
      "cell_type": "code",
      "source": [
        "print(np.logical_not(arr<2,arr>=0))"
      ],
      "metadata": {
        "colab": {
          "base_uri": "https://localhost:8080/"
        },
        "id": "PVA6_6FfwWdD",
        "outputId": "a6a8eace-8ed2-4a8c-8a9e-1a903b22962b"
      },
      "execution_count": null,
      "outputs": [
        {
          "output_type": "stream",
          "name": "stdout",
          "text": [
            "[False  True  True  True]\n"
          ]
        }
      ]
    },
    {
      "cell_type": "code",
      "source": [
        "print(np.logical_xor(arr<2,arr>=0))"
      ],
      "metadata": {
        "colab": {
          "base_uri": "https://localhost:8080/"
        },
        "id": "onmvETO4wyAW",
        "outputId": "f6c2c7b9-4814-4736-8ae1-4bc628e73318"
      },
      "execution_count": null,
      "outputs": [
        {
          "output_type": "stream",
          "name": "stdout",
          "text": [
            "[False  True  True  True]\n"
          ]
        }
      ]
    },
    {
      "cell_type": "code",
      "source": [],
      "metadata": {
        "id": "pwjIBav2w5GX"
      },
      "execution_count": null,
      "outputs": []
    }
  ]
}